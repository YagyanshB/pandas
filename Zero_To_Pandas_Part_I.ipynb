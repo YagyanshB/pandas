{
  "nbformat": 4,
  "nbformat_minor": 0,
  "metadata": {
    "colab": {
      "provenance": [],
      "authorship_tag": "ABX9TyMAV2QOjR4UpIxn8e8m1n+Q",
      "include_colab_link": true
    },
    "kernelspec": {
      "name": "python3",
      "display_name": "Python 3"
    },
    "language_info": {
      "name": "python"
    }
  },
  "cells": [
    {
      "cell_type": "markdown",
      "metadata": {
        "id": "view-in-github",
        "colab_type": "text"
      },
      "source": [
        "<a href=\"https://colab.research.google.com/github/YagyanshB/zero-to-pandas/blob/main/Zero_To_Pandas_Part_I.ipynb\" target=\"_parent\"><img src=\"https://colab.research.google.com/assets/colab-badge.svg\" alt=\"Open In Colab\"/></a>"
      ]
    },
    {
      "cell_type": "code",
      "execution_count": 1,
      "metadata": {
        "id": "tAeltT2u0Vcb"
      },
      "outputs": [],
      "source": [
        "# Code Implementations from the Zero to Pandas series from jovian.ml"
      ]
    },
    {
      "cell_type": "code",
      "source": [
        "# Performing Arithmetic Expressions\n",
        "\n",
        "# Additions\n",
        "\n",
        "2 + 3 + 9"
      ],
      "metadata": {
        "colab": {
          "base_uri": "https://localhost:8080/"
        },
        "id": "SwkJXNnt0dMH",
        "outputId": "e7e224bd-136e-4d9b-fca6-ea5940edc7ce"
      },
      "execution_count": 2,
      "outputs": [
        {
          "output_type": "execute_result",
          "data": {
            "text/plain": [
              "14"
            ]
          },
          "metadata": {},
          "execution_count": 2
        }
      ]
    },
    {
      "cell_type": "code",
      "source": [
        "# Multiplication\n",
        "\n",
        "23.54 * 14.52"
      ],
      "metadata": {
        "colab": {
          "base_uri": "https://localhost:8080/"
        },
        "id": "TvZGa4br0hGW",
        "outputId": "62dbf754-6fcc-4496-9e73-d70dfbfce9f6"
      },
      "execution_count": 4,
      "outputs": [
        {
          "output_type": "execute_result",
          "data": {
            "text/plain": [
              "341.8008"
            ]
          },
          "metadata": {},
          "execution_count": 4
        }
      ]
    },
    {
      "cell_type": "code",
      "source": [
        "# Division\n",
        "\n",
        "100 / 7"
      ],
      "metadata": {
        "colab": {
          "base_uri": "https://localhost:8080/"
        },
        "id": "x92ujw5u0j8q",
        "outputId": "cae93b2e-8f4b-46e7-daae-3059dad63486"
      },
      "execution_count": 5,
      "outputs": [
        {
          "output_type": "execute_result",
          "data": {
            "text/plain": [
              "14.285714285714286"
            ]
          },
          "metadata": {},
          "execution_count": 5
        }
      ]
    },
    {
      "cell_type": "code",
      "source": [
        "# Quotient\n",
        "\n",
        "100 // 7"
      ],
      "metadata": {
        "colab": {
          "base_uri": "https://localhost:8080/"
        },
        "id": "hImnADei0qDp",
        "outputId": "2274553c-19e3-48d1-a81f-c0e403866803"
      },
      "execution_count": 8,
      "outputs": [
        {
          "output_type": "execute_result",
          "data": {
            "text/plain": [
              "14"
            ]
          },
          "metadata": {},
          "execution_count": 8
        }
      ]
    },
    {
      "cell_type": "code",
      "source": [
        "# Remainder\n",
        "\n",
        "100 % 7"
      ],
      "metadata": {
        "colab": {
          "base_uri": "https://localhost:8080/"
        },
        "id": "m4-qvsti0sOQ",
        "outputId": "597c57f3-10f8-4902-8a0d-5ae175c3cde0"
      },
      "execution_count": 9,
      "outputs": [
        {
          "output_type": "execute_result",
          "data": {
            "text/plain": [
              "2"
            ]
          },
          "metadata": {},
          "execution_count": 9
        }
      ]
    },
    {
      "cell_type": "code",
      "source": [
        "# Exponential\n",
        "\n",
        "4 ** 9"
      ],
      "metadata": {
        "colab": {
          "base_uri": "https://localhost:8080/"
        },
        "id": "yfHnNe9U0upC",
        "outputId": "afe77037-7191-4782-f7e5-37ac5bfadad2"
      },
      "execution_count": 10,
      "outputs": [
        {
          "output_type": "execute_result",
          "data": {
            "text/plain": [
              "262144"
            ]
          },
          "metadata": {},
          "execution_count": 10
        }
      ]
    },
    {
      "cell_type": "code",
      "source": [
        "# Multi Step Problems using variables\n",
        "\n",
        "ice_bag_price = 1.25\n",
        "\n",
        "profit_margin = (20 * ice_bag_price)/100\n",
        "\n",
        "ice_bags_sold = 500\n",
        "\n",
        "total_profit = ice_bags_sold * profit_margin\n",
        "\n",
        "print(total_profit)"
      ],
      "metadata": {
        "colab": {
          "base_uri": "https://localhost:8080/"
        },
        "id": "CjdOvQSS00wW",
        "outputId": "30a72a79-82eb-46ef-829c-cbd80b3e2018"
      },
      "execution_count": 20,
      "outputs": [
        {
          "output_type": "stream",
          "name": "stdout",
          "text": [
            "125.0\n"
          ]
        }
      ]
    },
    {
      "cell_type": "code",
      "source": [
        "total_cost_price = ice_bag_price * 500\n",
        "total_selling_price = 1.50 * 500\n",
        "\n",
        "print(total_cost_price)\n",
        "print(total_selling_price)"
      ],
      "metadata": {
        "colab": {
          "base_uri": "https://localhost:8080/"
        },
        "id": "ugb3rnJf2R7Z",
        "outputId": "de0ab0bb-447b-47e3-bec5-193b739d4681"
      },
      "execution_count": 21,
      "outputs": [
        {
          "output_type": "stream",
          "name": "stdout",
          "text": [
            "625.0\n",
            "750.0\n"
          ]
        }
      ]
    },
    {
      "cell_type": "code",
      "source": [
        "net_profit = total_selling_price - total_cost_price\n",
        "print(net_profit)"
      ],
      "metadata": {
        "colab": {
          "base_uri": "https://localhost:8080/"
        },
        "id": "6j8zsA3K1Z1l",
        "outputId": "254e67fe-5f5a-407c-b5ef-f403c28eead0"
      },
      "execution_count": 22,
      "outputs": [
        {
          "output_type": "stream",
          "name": "stdout",
          "text": [
            "125.0\n"
          ]
        }
      ]
    },
    {
      "cell_type": "code",
      "source": [
        "# Functions in Python are reusable set of instructions. Please note that comments in Python can be written following a # Hash Character\n",
        "# Comments effectively are extremely helpful as a way to carry out strong documentation"
      ],
      "metadata": {
        "id": "oWKhKiqn2PJA"
      },
      "execution_count": 28,
      "outputs": []
    },
    {
      "cell_type": "code",
      "source": [
        "print(\"The net profit by the store is\", net_profit)"
      ],
      "metadata": {
        "colab": {
          "base_uri": "https://localhost:8080/"
        },
        "id": "nTFDEfc54Qb3",
        "outputId": "2bb1686e-a467-4a8d-f4eb-b6239f01c360"
      },
      "execution_count": 27,
      "outputs": [
        {
          "output_type": "stream",
          "name": "stdout",
          "text": [
            "The net profit by the store is 125.0\n"
          ]
        }
      ]
    },
    {
      "cell_type": "code",
      "source": [
        "# Evaluating Conditions in Python\n",
        "\n",
        "my_favourite_number = 1\n",
        "my_least_favourite_number = 5\n",
        "a_neutral_number = 3\n",
        "my_favourite_number > my_least_favourite_number"
      ],
      "metadata": {
        "colab": {
          "base_uri": "https://localhost:8080/"
        },
        "id": "VfrUSCor4YEQ",
        "outputId": "46f0b916-9636-43c7-ca0d-5ecd784ad504"
      },
      "execution_count": 34,
      "outputs": [
        {
          "output_type": "execute_result",
          "data": {
            "text/plain": [
              "False"
            ]
          },
          "metadata": {},
          "execution_count": 34
        }
      ]
    },
    {
      "cell_type": "code",
      "source": [
        "# Equality Check - True\n",
        "\n",
        "my_favourite_number == 1"
      ],
      "metadata": {
        "colab": {
          "base_uri": "https://localhost:8080/"
        },
        "id": "Kj1_SJmU442M",
        "outputId": "eb672d0a-6902-4bb1-8676-aef067058b7f"
      },
      "execution_count": 30,
      "outputs": [
        {
          "output_type": "execute_result",
          "data": {
            "text/plain": [
              "True"
            ]
          },
          "metadata": {},
          "execution_count": 30
        }
      ]
    },
    {
      "cell_type": "code",
      "source": [
        "# Equality Check - False\n",
        "\n",
        "my_favourite_number == my_least_favourite_number"
      ],
      "metadata": {
        "colab": {
          "base_uri": "https://localhost:8080/"
        },
        "id": "z3SqYRtx4804",
        "outputId": "96a7e071-5917-4799-c252-a7ffdbab3007"
      },
      "execution_count": 31,
      "outputs": [
        {
          "output_type": "execute_result",
          "data": {
            "text/plain": [
              "False"
            ]
          },
          "metadata": {},
          "execution_count": 31
        }
      ]
    },
    {
      "cell_type": "code",
      "source": [
        "# Not Equal Check - True\n",
        "\n",
        "my_favourite_number != a_neutral_number"
      ],
      "metadata": {
        "colab": {
          "base_uri": "https://localhost:8080/"
        },
        "id": "wF4uR_SR5DXd",
        "outputId": "b62841cd-161d-46c5-88ba-3fd2c6ef962a"
      },
      "execution_count": 35,
      "outputs": [
        {
          "output_type": "execute_result",
          "data": {
            "text/plain": [
              "True"
            ]
          },
          "metadata": {},
          "execution_count": 35
        }
      ]
    },
    {
      "cell_type": "code",
      "source": [
        "# Not Equal Check - False\n",
        "\n",
        "a_neutral_number != 3"
      ],
      "metadata": {
        "colab": {
          "base_uri": "https://localhost:8080/"
        },
        "id": "fxEqGRXl5K9i",
        "outputId": "dfc5295c-356a-4d69-cdfe-bb5f41882d0b"
      },
      "execution_count": 36,
      "outputs": [
        {
          "output_type": "execute_result",
          "data": {
            "text/plain": [
              "False"
            ]
          },
          "metadata": {},
          "execution_count": 36
        }
      ]
    },
    {
      "cell_type": "code",
      "source": [
        "# Greater Than Check - True\n",
        "\n",
        "my_least_favourite_number > a_neutral_number"
      ],
      "metadata": {
        "colab": {
          "base_uri": "https://localhost:8080/"
        },
        "id": "2xxPAMOg5UHV",
        "outputId": "f3636d13-eaa9-4034-a3ec-3e357fcdbfdb"
      },
      "execution_count": 37,
      "outputs": [
        {
          "output_type": "execute_result",
          "data": {
            "text/plain": [
              "True"
            ]
          },
          "metadata": {},
          "execution_count": 37
        }
      ]
    }
