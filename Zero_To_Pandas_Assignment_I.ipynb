{
  "nbformat": 4,
  "nbformat_minor": 0,
  "metadata": {
    "colab": {
      "provenance": [],
      "authorship_tag": "ABX9TyMm3ekvTeW8nCONGO1/fY1R",
      "include_colab_link": true
    },
    "kernelspec": {
      "name": "python3",
      "display_name": "Python 3"
    },
    "language_info": {
      "name": "python"
    }
  },
  "cells": [
    {
      "cell_type": "markdown",
      "metadata": {
        "id": "view-in-github",
        "colab_type": "text"
      },
      "source": [
        "<a href=\"https://colab.research.google.com/github/YagyanshB/zero-to-pandas/blob/main/Zero_To_Pandas_Assignment_I.ipynb\" target=\"_parent\"><img src=\"https://colab.research.google.com/assets/colab-badge.svg\" alt=\"Open In Colab\"/></a>"
      ]
    },
    {
      "cell_type": "markdown",
      "source": [
        "# Problem 1 - Variables and Data Types - Solution"
      ],
      "metadata": {
        "id": "f5i6T-Xxg8n0"
      }
    },
    {
      "cell_type": "code",
      "execution_count": 71,
      "metadata": {
        "id": "ysWg_8PQ726Z"
      },
      "outputs": [],
      "source": [
        "# Assigning Variables using different data types\n",
        "\n",
        "job_title = \"Data Scientist\"\n",
        "years_of_experience = 5\n",
        "uses_iphone = True"
      ]
    },
    {
      "cell_type": "code",
      "source": [
        "# Creating a dictionary with the above variables\n",
        "\n",
        "person = {\n",
        "    \"job_title\": job_title,\n",
        "    \"years_of_experience\": years_of_experience,\n",
        "    \"uses_iphone\": uses_iphone\n",
        "}"
      ],
      "metadata": {
        "id": "tjYO1jcH8Ph1"
      },
      "execution_count": 72,
      "outputs": []
    },
    {
      "cell_type": "code",
      "source": [
        "person[\"years_of_experience\"]"
      ],
      "metadata": {
        "colab": {
          "base_uri": "https://localhost:8080/"
        },
        "id": "aCufy7Cy8TYu",
        "outputId": "d6164fe6-5790-4204-b5e1-cc81245e331c"
      },
      "execution_count": 73,
      "outputs": [
        {
          "output_type": "execute_result",
          "data": {
            "text/plain": [
              "5"
            ]
          },
          "metadata": {},
          "execution_count": 73
        }
      ]
    },
    {
      "cell_type": "code",
      "source": [
        "print(\"{} is aged {}, and owns an {}.\".format(\n",
        "    person[\"job_title\"],\n",
        "    person[\"years_of_experience\"],\n",
        "    \"uses_iphone\" if person[\"uses_iphone\"] else \"Android\"\n",
        "))"
      ],
      "metadata": {
        "colab": {
          "base_uri": "https://localhost:8080/"
        },
        "id": "MCBX9tKM8Xgy",
        "outputId": "15082523-cff8-4e1e-f9b0-4fa9d827ee52"
      },
      "execution_count": 74,
      "outputs": [
        {
          "output_type": "stream",
          "name": "stdout",
          "text": [
            "Data Scientist is aged 5, and owns an uses_iphone.\n"
          ]
        }
      ]
    },
    {
      "cell_type": "code",
      "source": [
        "# Using for loops\n",
        "\n",
        "for key in person:\n",
        "    print(person[key])"
      ],
      "metadata": {
        "colab": {
          "base_uri": "https://localhost:8080/"
        },
        "id": "jHedgZiH855p",
        "outputId": "aec79349-fbfd-4025-fac6-47b0ca005313"
      },
      "execution_count": 20,
      "outputs": [
        {
          "output_type": "stream",
          "name": "stdout",
          "text": [
            "Data Scientist\n",
            "5\n",
            "True\n"
          ]
        }
      ]
    },
    {
      "cell_type": "markdown",
      "source": [
        "# Problem 2 - Working with Lists - Solution"
      ],
      "metadata": {
        "id": "zf1s8OeEhJrv"
      }
    },
    {
      "cell_type": "code",
      "source": [
        "# Working with lists\n",
        "\n",
        "my_list = [\"navy blue\", 1, True]"
      ],
      "metadata": {
        "id": "lbLXkAxc9Hor"
      },
      "execution_count": 75,
      "outputs": []
    },
    {
      "cell_type": "code",
      "source": [
        "my_list"
      ],
      "metadata": {
        "colab": {
          "base_uri": "https://localhost:8080/"
        },
        "id": "wnA1DbMv9TlF",
        "outputId": "f620f073-1a8d-4709-c32e-0dbc6993f633"
      },
      "execution_count": 76,
      "outputs": [
        {
          "output_type": "execute_result",
          "data": {
            "text/plain": [
              "['navy blue', 1, True]"
            ]
          },
          "metadata": {},
          "execution_count": 76
        }
      ]
    },
    {
      "cell_type": "code",
      "source": [
        "print(\"My favourite colour is\", my_list[0])"
      ],
      "metadata": {
        "colab": {
          "base_uri": "https://localhost:8080/"
        },
        "id": "0r0289Fm9VMT",
        "outputId": "bbe78336-d447-4aca-ae30-d34aa8f3392a"
      },
      "execution_count": 77,
      "outputs": [
        {
          "output_type": "stream",
          "name": "stdout",
          "text": [
            "My favourite colour is navy blue\n"
          ]
        }
      ]
    },
    {
      "cell_type": "code",
      "source": [
        "print(\"I have\", my_list[1], \"pet\")"
      ],
      "metadata": {
        "colab": {
          "base_uri": "https://localhost:8080/"
        },
        "id": "-rfyKzNU9jE_",
        "outputId": "33e1b3f7-e104-4e4c-c81c-aad71a8a28f2"
      },
      "execution_count": 78,
      "outputs": [
        {
          "output_type": "stream",
          "name": "stdout",
          "text": [
            "I have 1 pet\n"
          ]
        }
      ]
    },
    {
      "cell_type": "code",
      "source": [
        "if my_list[2] == True:\n",
        "  print(\"Has Programming Experience\")\n",
        "else:\n",
        "  print(\"Does not have Programming Experience\")"
      ],
      "metadata": {
        "colab": {
          "base_uri": "https://localhost:8080/"
        },
        "id": "L50kNM499vHk",
        "outputId": "66775b19-f9dd-48e8-a4ba-a75933f54b79"
      },
      "execution_count": 79,
      "outputs": [
        {
          "output_type": "stream",
          "name": "stdout",
          "text": [
            "Has Programming Experience\n"
          ]
        }
      ]
    },
    {
      "cell_type": "code",
      "source": [
        "my_list.append(7)"
      ],
      "metadata": {
        "id": "SfGMpIz2-B6T"
      },
      "execution_count": 80,
      "outputs": []
    },
    {
      "cell_type": "code",
      "source": [
        "my_list"
      ],
      "metadata": {
        "colab": {
          "base_uri": "https://localhost:8080/"
        },
        "id": "2-XFEP3n-GU5",
        "outputId": "931c4a42-4531-4477-b7f1-35e4db76e33a"
      },
      "execution_count": 81,
      "outputs": [
        {
          "output_type": "execute_result",
          "data": {
            "text/plain": [
              "['navy blue', 1, True, 7]"
            ]
          },
          "metadata": {},
          "execution_count": 81
        }
      ]
    },
    {
      "cell_type": "code",
      "source": [
        "my_list.pop(0)"
      ],
      "metadata": {
        "colab": {
          "base_uri": "https://localhost:8080/",
          "height": 35
        },
        "id": "jS_V3J4t-HL1",
        "outputId": "a504f649-d300-46a4-ac6f-a53b246da641"
      },
      "execution_count": 82,
      "outputs": [
        {
          "output_type": "execute_result",
          "data": {
            "text/plain": [
              "'navy blue'"
            ],
            "application/vnd.google.colaboratory.intrinsic+json": {
              "type": "string"
            }
          },
          "metadata": {},
          "execution_count": 82
        }
      ]
    },
    {
      "cell_type": "code",
      "source": [
        "my_list"
      ],
      "metadata": {
        "colab": {
          "base_uri": "https://localhost:8080/"
        },
        "id": "Xb0MRElF-QUF",
        "outputId": "1919335b-a3e8-432b-aa4a-a7a49c5fc1e5"
      },
      "execution_count": 83,
      "outputs": [
        {
          "output_type": "execute_result",
          "data": {
            "text/plain": [
              "[1, True, 7]"
            ]
          },
          "metadata": {},
          "execution_count": 83
        }
      ]
    },
    {
      "cell_type": "code",
      "source": [
        "for i in range(5):\n",
        "  print(i)"
      ],
      "metadata": {
        "colab": {
          "base_uri": "https://localhost:8080/"
        },
        "id": "Vgq-qTSWcvXV",
        "outputId": "ac413d54-3a1f-48a1-cb94-238681790c97"
      },
      "execution_count": 84,
      "outputs": [
        {
          "output_type": "stream",
          "name": "stdout",
          "text": [
            "0\n",
            "1\n",
            "2\n",
            "3\n",
            "4\n"
          ]
        }
      ]
    },
    {
      "cell_type": "code",
      "source": [
        "print(type(range))"
      ],
      "metadata": {
        "colab": {
          "base_uri": "https://localhost:8080/"
        },
        "id": "16l4LmzQcyhC",
        "outputId": "13ac2c19-ac39-44ea-a663-bf16098d4d33"
      },
      "execution_count": 85,
      "outputs": [
        {
          "output_type": "stream",
          "name": "stdout",
          "text": [
            "<class 'type'>\n"
          ]
        }
      ]
    },
    {
      "cell_type": "code",
      "source": [
        "range = __builtins__.range  # Restore the original range function"
      ],
      "metadata": {
        "id": "c4rU8HV_c2Eh"
      },
      "execution_count": 33,
      "outputs": []
    },
    {
      "cell_type": "markdown",
      "source": [
        "# Problem 3 - Conditions & Loops - Solution"
      ],
      "metadata": {
        "id": "6QYivvgAhSzr"
      }
    },
    {
      "cell_type": "code",
      "source": [
        "sum = 0\n",
        "\n",
        "for i in range(21,534,7):\n",
        "  sum += i\n",
        "\n",
        "print(sum)"
      ],
      "metadata": {
        "colab": {
          "base_uri": "https://localhost:8080/"
        },
        "id": "rAdBshTAc62X",
        "outputId": "0700daf5-a7f1-415d-818b-f7860502e078"
      },
      "execution_count": 86,
      "outputs": [
        {
          "output_type": "stream",
          "name": "stdout",
          "text": [
            "20461\n"
          ]
        }
      ]
    },
    {
      "cell_type": "code",
      "source": [
        "total = 0\n",
        "num = 21  # Start (first multiple of 7 >= 18)\n",
        "\n",
        "while num <= 532:  # End (last multiple of 7 <= 534)\n",
        "    total += num\n",
        "    num += 7\n",
        "\n",
        "print(f\"The sum of all numbers divisible by 7 between 18 and 534 is: {total}\")"
      ],
      "metadata": {
        "colab": {
          "base_uri": "https://localhost:8080/"
        },
        "id": "3SXrjQkidJEB",
        "outputId": "758f6f83-a9fb-4e17-bd63-9d4c086e8bc9"
      },
      "execution_count": 87,
      "outputs": [
        {
          "output_type": "stream",
          "name": "stdout",
          "text": [
            "The sum of all numbers divisible by 7 between 18 and 534 is: 20461\n"
          ]
        }
      ]
    },
    {
      "cell_type": "code",
      "source": [
        "total = 0\n",
        "for i in range(18, 535):  # Note: range(18, 535) to include 534\n",
        "    if i % 7 == 0:        # Check if number is divisible by 7\n",
        "        total += i\n",
        "print(total)"
      ],
      "metadata": {
        "colab": {
          "base_uri": "https://localhost:8080/"
        },
        "id": "zYNwlpkzdPSB",
        "outputId": "df0e1dd1-ff90-470d-e4fe-635ae7e6abf8"
      },
      "execution_count": 88,
      "outputs": [
        {
          "output_type": "stream",
          "name": "stdout",
          "text": [
            "20461\n"
          ]
        }
      ]
    },
    {
      "cell_type": "markdown",
      "source": [
        "# Problem 4 - Flying to the Bahamas - Solution"
      ],
      "metadata": {
        "id": "1ZmrhTr_hZQt"
      }
    },
    {
      "cell_type": "code",
      "source": [
        "# Problem 4\n",
        "\n",
        "# Defining the variables\n",
        "\n",
        "# Initial Part of Problem\n",
        "\n",
        "cost_of_flying_plane = 5000\n",
        "number_of_signed_up_passengers = 29\n",
        "price_of_ticket = 200\n",
        "\n",
        "total_revenue = number_of_signed_up_passengers * price_of_ticket\n",
        "onward_profit = total_revenue - cost_of_flying_plane\n",
        "\n",
        "print(\"The company makes an onward profit of ${}\".format(onward_profit))\n",
        "\n",
        "\n",
        "# Defining Second Part of Problem\n",
        "\n",
        "return_trip_passengers = 12\n",
        "return_trip_revenue = return_trip_passengers * price_of_ticket\n",
        "return_trip_profit = return_trip_revenue - cost_of_flying_plane\n",
        "\n",
        "print(\"The company makes a return trip loss of ${}\".format(return_trip_profit))\n",
        "\n",
        "total_profit = onward_profit + return_trip_profit\n",
        "\n",
        "print(\"The total net profit of the company is ${}\".format(total_profit))\n"
      ],
      "metadata": {
        "colab": {
          "base_uri": "https://localhost:8080/"
        },
        "id": "CVfsweEqdslY",
        "outputId": "16285709-eaaf-4854-c19c-2c859fe90f99"
      },
      "execution_count": 46,
      "outputs": [
        {
          "output_type": "stream",
          "name": "stdout",
          "text": [
            "The company makes an onward profit of $800\n",
            "The company makes a return trip loss of $-2600\n",
            "The total net profit of the company is $-1800\n"
          ]
        }
      ]
    },
    {
      "cell_type": "markdown",
      "source": [
        "# Problem 5 - Twitter Sentiment Analysis - Solution"
      ],
      "metadata": {
        "id": "Eu6c5YPzhiY9"
      }
    },
    {
      "cell_type": "code",
      "source": [
        "tweets = [\n",
        "    \"Wow, what a great day today!! #sunshine\",\n",
        "    \"I feel sad about the things going on around us. #covid19\",\n",
        "    \"I'm really excited to learn Python with @JovianML #zerotopandas\",\n",
        "    \"This is a really nice song. #linkinpark\",\n",
        "    \"The python programming language is useful for data science\",\n",
        "    \"Why do bad things happen to me?\",\n",
        "    \"Apple announces the release of the new iPhone 12. Fans are excited.\",\n",
        "    \"Spent my day with family!! #happy\",\n",
        "    \"Check out my blog post on common string operations in Python. #zerotopandas\",\n",
        "    \"Freecodecamp has great coding tutorials. #skillup\"\n",
        "]"
      ],
      "metadata": {
        "id": "DfPc9fDGeCMw"
      },
      "execution_count": 89,
      "outputs": []
    },
    {
      "cell_type": "code",
      "source": [
        "len(tweets)"
      ],
      "metadata": {
        "colab": {
          "base_uri": "https://localhost:8080/"
        },
        "id": "zC9iCRKQfCZs",
        "outputId": "120f047b-dc82-495d-a88e-0471ff4a650b"
      },
      "execution_count": 51,
      "outputs": [
        {
          "output_type": "execute_result",
          "data": {
            "text/plain": [
              "10"
            ]
          },
          "metadata": {},
          "execution_count": 51
        }
      ]
    },
    {
      "cell_type": "code",
      "source": [
        "happy_words = ['great', 'excited', 'happy', 'nice', 'wonderful', 'amazing', 'good', 'best']"
      ],
      "metadata": {
        "id": "c_tsCzn4fGjG"
      },
      "execution_count": 52,
      "outputs": []
    },
    {
      "cell_type": "code",
      "source": [
        "sad_words = ['sad', 'bad', 'tragic', 'unhappy', 'worst']"
      ],
      "metadata": {
        "id": "VhQ7MsllfWUf"
      },
      "execution_count": 53,
      "outputs": []
    },
    {
      "cell_type": "code",
      "source": [
        "sample_tweet = tweets[0]"
      ],
      "metadata": {
        "id": "34YO0sN5fXTv"
      },
      "execution_count": 54,
      "outputs": []
    },
    {
      "cell_type": "code",
      "source": [
        "sample_tweet"
      ],
      "metadata": {
        "colab": {
          "base_uri": "https://localhost:8080/",
          "height": 35
        },
        "id": "jLuKDKxjfayL",
        "outputId": "8912e604-cfcd-4ebf-9e16-ec5072f5b717"
      },
      "execution_count": 55,
      "outputs": [
        {
          "output_type": "execute_result",
          "data": {
            "text/plain": [
              "'Wow, what a great day today!! #sunshine'"
            ],
            "application/vnd.google.colaboratory.intrinsic+json": {
              "type": "string"
            }
          },
          "metadata": {},
          "execution_count": 55
        }
      ]
    },
    {
      "cell_type": "code",
      "source": [
        "is_tweet_happy = False\n",
        "\n",
        "# Get a word from happy_words\n",
        "for word in happy_words:\n",
        "    # Check if the tweet contains the word\n",
        "    if word in sample_tweet:\n",
        "        # Word found! Mark the tweet as happy\n",
        "        is_tweet_happy = True"
      ],
      "metadata": {
        "id": "w4Sb1r1RfcCG"
      },
      "execution_count": 56,
      "outputs": []
    },
    {
      "cell_type": "code",
      "source": [
        "is_tweet_happy"
      ],
      "metadata": {
        "colab": {
          "base_uri": "https://localhost:8080/"
        },
        "id": "D63IFTMlfj2Z",
        "outputId": "c07c8989-35d7-4459-9cc8-ea2ee5696a7a"
      },
      "execution_count": 57,
      "outputs": [
        {
          "output_type": "execute_result",
          "data": {
            "text/plain": [
              "True"
            ]
          },
          "metadata": {},
          "execution_count": 57
        }
      ]
    },
    {
      "cell_type": "code",
      "source": [
        "number_of_happy_tweets = 0\n",
        "\n",
        "for tweet in tweets:\n",
        "    for word in happy_words:\n",
        "        if word in tweet:\n",
        "            number_of_happy_tweets += 1"
      ],
      "metadata": {
        "id": "HZjoei9Jfldc"
      },
      "execution_count": 58,
      "outputs": []
    },
    {
      "cell_type": "code",
      "source": [
        "number_of_happy_tweets"
      ],
      "metadata": {
        "colab": {
          "base_uri": "https://localhost:8080/"
        },
        "id": "i23Q3Qskfu2f",
        "outputId": "a88f8b30-4432-473c-81d6-1e33623e9a5a"
      },
      "execution_count": 59,
      "outputs": [
        {
          "output_type": "execute_result",
          "data": {
            "text/plain": [
              "6"
            ]
          },
          "metadata": {},
          "execution_count": 59
        }
      ]
    },
    {
      "cell_type": "code",
      "source": [
        "happy_fraction = number_of_happy_tweets/len(tweets)\n",
        "happy_fraction"
      ],
      "metadata": {
        "colab": {
          "base_uri": "https://localhost:8080/"
        },
        "id": "D99G6pgQfwjP",
        "outputId": "e3cd8d54-e9f6-451b-dd13-1e92f15bc859"
      },
      "execution_count": 60,
      "outputs": [
        {
          "output_type": "execute_result",
          "data": {
            "text/plain": [
              "0.6"
            ]
          },
          "metadata": {},
          "execution_count": 60
        }
      ]
    },
    {
      "cell_type": "code",
      "source": [
        "number_of_sad_tweets = 0\n",
        "\n",
        "for tweet in tweets:\n",
        "  for word in sad_words:\n",
        "    if word in tweet:\n",
        "      number_of_sad_tweets += 1"
      ],
      "metadata": {
        "id": "XhPMcNiQf66t"
      },
      "execution_count": 61,
      "outputs": []
    },
    {
      "cell_type": "code",
      "source": [
        "number_of_sad_tweets"
      ],
      "metadata": {
        "colab": {
          "base_uri": "https://localhost:8080/"
        },
        "id": "dK_tNk6HgEYd",
        "outputId": "cfa230ff-97cf-4c75-d125-d6aeea34bc1a"
      },
      "execution_count": 62,
      "outputs": [
        {
          "output_type": "execute_result",
          "data": {
            "text/plain": [
              "2"
            ]
          },
          "metadata": {},
          "execution_count": 62
        }
      ]
    },
    {
      "cell_type": "code",
      "source": [
        "sad_fraction = number_of_sad_tweets/len(tweets)\n",
        "sad_fraction"
      ],
      "metadata": {
        "colab": {
          "base_uri": "https://localhost:8080/"
        },
        "id": "ZcZUxNOWgFlp",
        "outputId": "aed481fa-c2d7-4a31-f20a-b69d12f09f6f"
      },
      "execution_count": 64,
      "outputs": [
        {
          "output_type": "execute_result",
          "data": {
            "text/plain": [
              "0.2"
            ]
          },
          "metadata": {},
          "execution_count": 64
        }
      ]
    },
    {
      "cell_type": "code",
      "source": [
        "sentiment_score = happy_fraction - sad_fraction"
      ],
      "metadata": {
        "id": "xcxIaCTCgOLf"
      },
      "execution_count": 65,
      "outputs": []
    },
    {
      "cell_type": "code",
      "source": [
        "print(round(sentiment_score,2))"
      ],
      "metadata": {
        "colab": {
          "base_uri": "https://localhost:8080/"
        },
        "id": "p-PwFraZgUI4",
        "outputId": "ac17cff3-b8bf-48d7-e906-453677874ac8"
      },
      "execution_count": 67,
      "outputs": [
        {
          "output_type": "stream",
          "name": "stdout",
          "text": [
            "0.4\n"
          ]
        }
      ]
    },
    {
      "cell_type": "code",
      "source": [
        "if sentiment_score > 0:\n",
        "    print(\"The overall sentiment is happy\")\n",
        "else:\n",
        "    print(\"The overall sentiment is sad\")"
      ],
      "metadata": {
        "colab": {
          "base_uri": "https://localhost:8080/"
        },
        "id": "ImLXrLuzgVR2",
        "outputId": "34a39f8e-7d15-4ce8-fb28-eb60d2b948c7"
      },
      "execution_count": 68,
      "outputs": [
        {
          "output_type": "stream",
          "name": "stdout",
          "text": [
            "The overall sentiment is happy\n"
          ]
        }
      ]
    },
    {
      "cell_type": "code",
      "source": [
        "number_of_neutral_tweets = len(tweets) - number_of_happy_tweets - number_of_sad_tweets\n",
        "number_of_neutral_tweets"
      ],
      "metadata": {
        "colab": {
          "base_uri": "https://localhost:8080/"
        },
        "id": "BO7ThO6Jgj3Z",
        "outputId": "7c7dbb77-d902-4379-c97d-580017155906"
      },
      "execution_count": 69,
      "outputs": [
        {
          "output_type": "execute_result",
          "data": {
            "text/plain": [
              "2"
            ]
          },
          "metadata": {},
          "execution_count": 69
        }
      ]
    },
    {
      "cell_type": "code",
      "source": [
        "neutral_fraction = number_of_neutral_tweets/len(tweets)\n",
        "neutral_fraction"
      ],
      "metadata": {
        "colab": {
          "base_uri": "https://localhost:8080/"
        },
        "id": "u4rkP6negrd9",
        "outputId": "c5e5b7aa-6c05-43ad-d761-16edc4c6b340"
      },
      "execution_count": 70,
      "outputs": [
        {
          "output_type": "execute_result",
          "data": {
            "text/plain": [
              "0.2"
            ]
          },
          "metadata": {},
          "execution_count": 70
        }
      ]
    }
  ]
}